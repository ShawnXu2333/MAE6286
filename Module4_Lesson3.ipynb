{
 "cells": [
  {
   "cell_type": "code",
   "execution_count": 8,
   "metadata": {},
   "outputs": [],
   "source": [
    "import numpy as np\n",
    "from matplotlib import pyplot as pp\n",
    "%matplotlib inline"
   ]
  },
  {
   "cell_type": "code",
   "execution_count": 9,
   "metadata": {},
   "outputs": [],
   "source": [
    "L = 0.01\n",
    "nx,ny = 21,21\n",
    "dx = L / (nx - 1)\n",
    "dy = L / (ny - 1)\n",
    "\n",
    "x = np.linspace(0.0, L, num = nx)\n",
    "y = np.linspace(0.0, L, num = ny)\n",
    "\n",
    "alpha = 1e-4\n",
    "\n",
    "T0 = np.full([ny,nx],20.0)\n",
    "T0[0,:] = 100.0\n",
    "T0[:,0] = 100.0"
   ]
  },
  {
   "cell_type": "code",
   "execution_count": 10,
   "metadata": {},
   "outputs": [],
   "source": [
    "def ftcs(T0, nt, dt, dx, dy, alpha, qx=0.0, qy=0.0):\n",
    "    T = T0.copy()\n",
    "    sigma_x = alpha * dt / dx**2\n",
    "    sigma_y = alpha * dt / dy**2\n",
    "    ny,nx = T.shape\n",
    "    I, J = nx//2, ny//2\n",
    "    for n in range(nt):\n",
    "        T[1:-1,1:-1] = (T[1:-1,1:-1] + \n",
    "                        sigma_x * (T[1:-1,:-2] - 2 * T[1:-1,1:-1] + T[1:-1,2:]) +\n",
    "                        sigma_y * (T[:-2,1:-1] - 2 * T[1:-1,1:-1] + T[2:,1:-1]))\n",
    "        T[:,-1] = T[:,-2] + dx * qx\n",
    "        T[-1,:] = T[-2,:] + dy * qy\n",
    "        if T[J,I] >= 70:\n",
    "            break\n",
    "    print(n+1, T[J, I])\n",
    "    return T"
   ]
  },
  {
   "cell_type": "code",
   "execution_count": 11,
   "metadata": {},
   "outputs": [
    {
     "name": "stdout",
     "output_type": "stream",
     "text": [
      "256 70.02138294076661\n"
     ]
    }
   ],
   "source": [
    "nt = 500\n",
    "sigma = 0.25\n",
    "dt = sigma * min(dx,dy)**2 / alpha\n",
    "\n",
    "T = ftcs(T0, nt, dt, dx, dy, alpha)"
   ]
  },
  {
   "cell_type": "code",
   "execution_count": 17,
   "metadata": {},
   "outputs": [
    {
     "data": {
      "image/png": "[encoded data removed]",
      "text/plain": [
       "<Figure size 576x360 with 2 Axes>"
      ]
     },
     "metadata": {
      "needs_background": "light"
     },
     "output_type": "display_data"
    }
   ],
   "source": [
    "pp.figure(figsize=(8.0,5.0))\n",
    "pp.xlabel('x [cm]')\n",
    "pp.ylabel('y [cm]')\n",
    "contf = pp.contourf(x*100, y*100, T)\n",
    "cbar = pp.colorbar(contf)\n",
    "cbar.set_label('Temperature [C]')"
   ]
  },
  {
   "cell_type": "code",
   "execution_count": null,
   "metadata": {},
   "outputs": [],
   "source": []
  }
 ],
 "metadata": {
  "kernelspec": {
   "display_name": "Python 3",
   "language": "python",
   "name": "python3"
  },
  "language_info": {
   "codemirror_mode": {
    "name": "ipython",
    "version": 3
   },
   "file_extension": ".py",
   "mimetype": "text/x-python",
   "name": "python",
   "nbconvert_exporter": "python",
   "pygments_lexer": "ipython3",
   "version": "3.7.3"
  }
 },
 "nbformat": 4,
 "nbformat_minor": 2
}
