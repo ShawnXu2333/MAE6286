{
 "cells": [
  {
   "cell_type": "code",
   "execution_count": 1,
   "metadata": {},
   "outputs": [],
   "source": [
    "import numpy as np\n",
    "from matplotlib import pyplot as pp\n",
    "from scipy import linalg\n",
    "%matplotlib inline"
   ]
  },
  {
   "cell_type": "code",
   "execution_count": 2,
   "metadata": {},
   "outputs": [],
   "source": [
    "L = 0.01\n",
    "nx,ny = 21,21\n",
    "dx = L / (nx - 1)\n",
    "dy = L / (ny - 1)\n",
    "Tb = 100\n",
    "\n",
    "x = np.linspace(0.0, L, num = nx)\n",
    "y = np.linspace(0.0, L, num = ny)\n",
    "\n",
    "alpha = 1e-4\n",
    "\n",
    "T0 = np.full([ny,nx],20.0)\n",
    "T0[0,:] = 100.0\n",
    "T0[:,0] = 100.0"
   ]
  },
  {
   "cell_type": "code",
   "execution_count": 3,
   "metadata": {},
   "outputs": [],
   "source": [
    "def btcs(T0, nt, dt, dx, alpha):\n",
    "    ny,nx = T0.shape\n",
    "    M = nx - 2\n",
    "    N = ny - 2\n",
    "    sigma = alpha * dt / dx**2\n",
    "    \n",
    "    A = lhs_operator(M, N,sigma)\n",
    "    \n",
    "    T = map_2d_to_1d(T0)\n",
    "    I, J = int(M / 2), int(N / 2)\n",
    "    \n",
    "    for n in range(nt):\n",
    "        b = rhs_vector(T, M, N, sigma, Tb)\n",
    "        T = linalg.solve(A,b)\n",
    "        if T[J * M + I] >= 70.0:\n",
    "            break\n",
    "    print(T[J * M + I], (n + 1) * dt)\n",
    "    return map_1d_to_2d(T, nx, ny, Tb)"
   ]
  },
  {
   "cell_type": "code",
   "execution_count": 4,
   "metadata": {},
   "outputs": [],
   "source": [
    "def lhs_operator(M,N,sigma):\n",
    "    A = np.zeros((M * N,M * N))\n",
    "    for j in range(N):\n",
    "        for i in range(M):\n",
    "            I = j * M + i\n",
    "            west = I - 1\n",
    "            east = I + 1\n",
    "            south = I - M\n",
    "            north = I + M\n",
    "            if i == 0 and j == 0:\n",
    "                A[I, I] = 1.0 / sigma + 4.0\n",
    "                A[I, east] = -1.0\n",
    "                A[I, north] = -1.0\n",
    "            elif i == M-1 and j == 0:\n",
    "                A[I, I] = 1.0 / sigma + 3.0\n",
    "                A[I, west] = -1.0\n",
    "                A[I, north] = -1.0\n",
    "            elif i == 0 and j == N-1:\n",
    "                A[I, I] = 1.0 / sigma + 3.0\n",
    "                A[I, south] = -1.0\n",
    "                A[I, east] = -1.0\n",
    "            elif i == M-1 and j== N-1:\n",
    "                A[I, I] = 1.0 / sigma + 2.0\n",
    "                A[I, south] = -1.0\n",
    "                A[I, west] = -1.0\n",
    "            elif i == 0:\n",
    "                A[I, I] = 1.0 / sigma + 4.0\n",
    "                A[I, south] = -1.0\n",
    "                A[I, east] = -1.0\n",
    "                A[I, north] = -1.0\n",
    "            elif i == M - 1:\n",
    "                A[I, I] = 1.0 / sigma + 3.0\n",
    "                A[I, south] = -1.0\n",
    "                A[I, west] = -1.0\n",
    "                A[I, north] = -1.0\n",
    "            elif j == 0:\n",
    "                A[I, I] = 1.0 / sigma + 4.0\n",
    "                A[I, west] = -1.0\n",
    "                A[I, east] = -1.0\n",
    "                A[I, north] = -1.0\n",
    "            elif j == N - 1:\n",
    "                A[I, I] = 1.0 / sigma + 3.0\n",
    "                A[I, south] = -1.0\n",
    "                A[I, west] = -1.0\n",
    "                A[I, east] = -1.0\n",
    "            else:\n",
    "                A[I, I] = 1.0 / sigma + 4.0\n",
    "                A[I, south] = -1.0\n",
    "                A[I, west] = -1.0\n",
    "                A[I, east] = -1.0\n",
    "                A[I, north] = -1.0\n",
    "    return A"
   ]
  },
  {
   "cell_type": "code",
   "execution_count": 5,
   "metadata": {},
   "outputs": [],
   "source": [
    "def rhs_vector(T, M, N, sigma, Tb):\n",
    "    b = 1 / sigma * T\n",
    "    for j in range(N):\n",
    "        for i in range(M):\n",
    "            I = j * M + i\n",
    "            if i == 0:\n",
    "                b[I] += Tb\n",
    "            if j == 0:\n",
    "                b[I] += Tb\n",
    "    return b"
   ]
  },
  {
   "cell_type": "code",
   "execution_count": 6,
   "metadata": {},
   "outputs": [],
   "source": [
    "def map_2d_to_1d(T0):\n",
    "    T = T0[1:-1,1:-1].flatten()\n",
    "    return T"
   ]
  },
  {
   "cell_type": "code",
   "execution_count": 9,
   "metadata": {},
   "outputs": [],
   "source": [
    "def map_1d_to_2d(T, nx, ny, Tb):\n",
    "    T_2d = np.zeros((ny, nx))\n",
    "    T_2d[1:-1,1:-1] = T.reshape((ny-2, nx-2))\n",
    "    T_2d[0,:] = Tb\n",
    "    T_2d[:,0] = Tb\n",
    "    T_2d[-1,:] = T_2d[-2,:]\n",
    "    T_2d[:,-1] = T_2d[:,-2]\n",
    "    return T_2d"
   ]
  },
  {
   "cell_type": "code",
   "execution_count": 10,
   "metadata": {},
   "outputs": [
    {
     "name": "stdout",
     "output_type": "stream",
     "text": [
      "70.00387455599684 0.16062499999999996\n"
     ]
    }
   ],
   "source": [
    "nt = 300\n",
    "sigma = 0.25\n",
    "dt = sigma * min(dx, dy)**2 / alpha\n",
    "\n",
    "T = btcs(T0, nt, dt, dx, alpha)"
   ]
  },
  {
   "cell_type": "code",
   "execution_count": 12,
   "metadata": {},
   "outputs": [],
   "source": [
    "pp.rcParams['font.family'] = 'serif'\n",
    "pp.rcParams['font.size'] = 16"
   ]
  },
  {
   "cell_type": "code",
   "execution_count": 14,
   "metadata": {},
   "outputs": [
    {
     "data": {
      "image/png": "[encoded data removed]",
      "text/plain": [
       "<Figure size 576x360 with 2 Axes>"
      ]
     },
     "metadata": {
      "needs_background": "light"
     },
     "output_type": "display_data"
    }
   ],
   "source": [
    "pp.figure(figsize=(8.0, 5.0))\n",
    "pp.xlabel('x [m]')\n",
    "pp.ylabel('y [m]')\n",
    "levels = np.linspace(20.0, 100.0, num=51)\n",
    "contf = pp.contourf(x, y, T, levels=levels)\n",
    "cbar = pp.colorbar(contf)\n",
    "cbar.set_label('Temperature [C]')\n",
    "pp.axis('scaled', adjustable='box');"
   ]
  },
  {
   "cell_type": "code",
   "execution_count": null,
   "metadata": {},
   "outputs": [],
   "source": []
  }
 ],
 "metadata": {
  "kernelspec": {
   "display_name": "Python 3",
   "language": "python",
   "name": "python3"
  },
  "language_info": {
   "codemirror_mode": {
    "name": "ipython",
    "version": 3
   },
   "file_extension": ".py",
   "mimetype": "text/x-python",
   "name": "python",
   "nbconvert_exporter": "python",
   "pygments_lexer": "ipython3",
   "version": "3.7.3"
  }
 },
 "nbformat": 4,
 "nbformat_minor": 2
}
